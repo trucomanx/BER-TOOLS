{
 "cells": [
  {
   "cell_type": "code",
   "execution_count": 7,
   "id": "36eda243-d8a3-4db9-bf28-ab2964f3ad7d",
   "metadata": {},
   "outputs": [],
   "source": [
    "Lsamples=20000\n",
    "target_label=['negative','neutro','pain','positive'];\n",
    "output_dir='../../BER2024/BER2024-FUSION'\n",
    "csv_train_filename='train.dummy.csv'\n",
    "csv_test_filename='test.dummy.csv'"
   ]
  },
  {
   "cell_type": "code",
   "execution_count": 8,
   "id": "9137e4e6-7e40-47b3-8192-485063be6950",
   "metadata": {},
   "outputs": [
    {
     "name": "stdout",
     "output_type": "stream",
     "text": [
      "[0.50706722 0.01021521 0.23300006 0.24971752]\n"
     ]
    }
   ],
   "source": [
    "import numpy as np\n",
    "\n",
    "def create_vector(N):\n",
    "    if N < 0 or N > 3:\n",
    "        raise ValueError(\"N deve estar entre 0 e 3, inclusive.\")\n",
    "    \n",
    "    # Gera 3 valores aleatórios\n",
    "    random_values = np.random.rand(3)\n",
    "    \n",
    "    # Gera um valor aleatório que é maior que todos os 3 valores gerados\n",
    "    max_value = random_values.max() + np.random.rand()\n",
    "    \n",
    "    # Cria o vetor de 4 elementos com o valor máximo na posição N\n",
    "    vector = np.insert(random_values, N, max_value)\n",
    "    \n",
    "    return vector/np.sum(vector);\n",
    "\n",
    "# Exemplo de uso\n",
    "N = 0\n",
    "vector = create_vector(N)\n",
    "print(vector)\n"
   ]
  },
  {
   "cell_type": "code",
   "execution_count": 9,
   "id": "7391006d-2303-4d2c-8226-3e7859cd1483",
   "metadata": {},
   "outputs": [],
   "source": [
    "import os\n",
    "os.makedirs(output_dir,exist_ok = True);"
   ]
  },
  {
   "cell_type": "code",
   "execution_count": 10,
   "id": "2c333dd2-4cd5-4ee8-a366-16c52cbf05f2",
   "metadata": {},
   "outputs": [],
   "source": [
    "import random \n",
    "import csv\n",
    "from tqdm import tqdm\n",
    "\n",
    "def create_dummy_dataset(csv_filename,Lsamples,target_label):\n",
    "    with open(csv_filename, mode='w', newline='') as file:\n",
    "        writer = csv.writer(file)\n",
    "        \n",
    "        # Escreve o cabeçalho (opcional)\n",
    "        header = ['d'+str(n) for n in range(3*len(target_label))]+[ 'label'];\n",
    "        writer.writerow(header)\n",
    "        \n",
    "        for l in tqdm(range(Lsamples)):\n",
    "            \n",
    "            ID=random.randint(0, len(target_label)-1);\n",
    "        \n",
    "            vector1 = create_vector(ID);\n",
    "            vector2 = create_vector(ID);\n",
    "            vector3 = create_vector(ID);\n",
    "            \n",
    "            concatenated = np.concatenate((vector1, vector2, vector3))\n",
    "            label=target_label[ID];\n",
    "    \n",
    "            # Converte o vetor em lista e adiciona a etiqueta no final\n",
    "            row = list(concatenated) + [label];\n",
    "            \n",
    "            # Escreve a linha no arquivo CSV\n",
    "            writer.writerow(row)\n"
   ]
  },
  {
   "cell_type": "code",
   "execution_count": 11,
   "id": "2a8cc8be-842d-4097-a5e5-84d7162a50ec",
   "metadata": {},
   "outputs": [
    {
     "name": "stderr",
     "output_type": "stream",
     "text": [
      "100%|█████████████████████████████████████████████████████████████████████████████████████████████████████████████████████| 20000/20000 [00:02<00:00, 9661.24it/s]\n"
     ]
    }
   ],
   "source": [
    "csv_filename=os.path.join(output_dir,csv_train_filename);\n",
    "create_dummy_dataset(csv_filename,Lsamples,target_label);"
   ]
  },
  {
   "cell_type": "code",
   "execution_count": 12,
   "id": "f09adb41-1369-4ab8-8991-35f84c2244f8",
   "metadata": {},
   "outputs": [
    {
     "name": "stderr",
     "output_type": "stream",
     "text": [
      "100%|████████████████████████████████████████████████████████████████████████████████████████████████████████████████████| 20000/20000 [00:01<00:00, 10292.12it/s]\n"
     ]
    }
   ],
   "source": [
    "csv_filename=os.path.join(output_dir,csv_test_filename);\n",
    "create_dummy_dataset(csv_filename,Lsamples,target_label);"
   ]
  }
 ],
 "metadata": {
  "kernelspec": {
   "display_name": "Python 3 (ipykernel)",
   "language": "python",
   "name": "python3"
  },
  "language_info": {
   "codemirror_mode": {
    "name": "ipython",
    "version": 3
   },
   "file_extension": ".py",
   "mimetype": "text/x-python",
   "name": "python",
   "nbconvert_exporter": "python",
   "pygments_lexer": "ipython3",
   "version": "3.10.12"
  }
 },
 "nbformat": 4,
 "nbformat_minor": 5
}
